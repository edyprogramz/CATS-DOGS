{
 "cells": [
  {
   "cell_type": "markdown",
   "id": "228e3881-fc8f-4745-bd72-93b0111ad167",
   "metadata": {},
   "source": [
    "PREPARING THE DATA"
   ]
  },
  {
   "cell_type": "code",
   "execution_count": 12,
   "id": "586ebfe5-8e4d-42c2-8e99-45a04a12425c",
   "metadata": {},
   "outputs": [],
   "source": [
    "import numpy as np\n",
    "import cv2\n",
    "import os\n",
    "import random\n",
    "import matplotlib.pyplot as plt\n",
    "import pickle"
   ]
  },
  {
   "cell_type": "code",
   "execution_count": 14,
   "id": "8dbf827c-0f15-427d-a54a-ab1b3fd5e9f0",
   "metadata": {},
   "outputs": [],
   "source": [
    "DIRECTORY = r'C:\\Users\\tajiri\\Downloads\\cat-dogs dataset\\dogscats\\valid'\n",
    "CATEGORIES = ['cats', 'dogs']"
   ]
  },
  {
   "cell_type": "code",
   "execution_count": 24,
   "id": "80505bbe-e9e0-4c37-97c4-40692948be28",
   "metadata": {},
   "outputs": [],
   "source": [
    "IMG_SIZE = 100\n",
    "\n",
    "data = []\n",
    "\n",
    "# convert the images to array using OPENCV\n",
    "for category in CATEGORIES:\n",
    "    folder = os.path.join(DIRECTORY, category)\n",
    "    # print(folder)\n",
    "    label = CATEGORIES.index(category)\n",
    "    \n",
    "    for img in os.listdir(folder):\n",
    "        img_path = os.path.join(folder, img)\n",
    "        # print(img_path)\n",
    "        # break\n",
    "        img_array = cv2.imread(img_path)\n",
    "        # visualize using matplotlib \n",
    "            # plt.imshow(img_array)\n",
    "            # break\n",
    "        # AFTER THIS we need to make all images to have the same image size\n",
    "        # we will import it above\n",
    "        img_array = cv2.resize(img_array, (IMG_SIZE, IMG_SIZE))\n",
    "            # plt.imshow(img_array)\n",
    "            # break\n",
    "        # WE NOW need to add labels: e.g CAT = 1 && DOG= 0\n",
    "        # add above\n",
    "\n",
    "        data.append([img_array, label])"
   ]
  },
  {
   "cell_type": "code",
   "execution_count": 26,
   "id": "ab877db8-abb4-4eb8-984a-219a6134ff59",
   "metadata": {},
   "outputs": [
    {
     "data": {
      "text/plain": [
       "2000"
      ]
     },
     "execution_count": 26,
     "metadata": {},
     "output_type": "execute_result"
    }
   ],
   "source": [
    "# we have 1000 cats and 1000 dog images \n",
    "len(data)"
   ]
  },
  {
   "cell_type": "code",
   "execution_count": 27,
   "id": "846aa04c-9aaf-46d0-9f8a-db6f892a7497",
   "metadata": {},
   "outputs": [],
   "source": [
    "# WE NEED to shuffle the data\n",
    "random.shuffle(data)"
   ]
  },
  {
   "cell_type": "code",
   "execution_count": 30,
   "id": "a2221542-785e-4a6c-818d-8f31c06295fe",
   "metadata": {},
   "outputs": [],
   "source": [
    "X = []\n",
    "y = []\n",
    "\n",
    "for features, labels in data:\n",
    "    X.append(features)\n",
    "    y.append(labels)"
   ]
  },
  {
   "cell_type": "code",
   "execution_count": 31,
   "id": "e2ce00cb-9a07-4467-a5fc-44792fcd2404",
   "metadata": {},
   "outputs": [],
   "source": [
    "X = np.array(X)\n",
    "y = np.array(y)"
   ]
  },
  {
   "cell_type": "code",
   "execution_count": 35,
   "id": "386f734c-632f-4722-aaa3-e438f727afa7",
   "metadata": {},
   "outputs": [],
   "source": [
    "# to save: the features = X && the labels = y\n",
    "pickle.dump(X, open('X.pk1', 'wb'))\n",
    "pickle.dump(y, open('y.pk1', 'wb'))"
   ]
  }
 ],
 "metadata": {
  "kernelspec": {
   "display_name": "Python 3 (ipykernel)",
   "language": "python",
   "name": "python3"
  },
  "language_info": {
   "codemirror_mode": {
    "name": "ipython",
    "version": 3
   },
   "file_extension": ".py",
   "mimetype": "text/x-python",
   "name": "python",
   "nbconvert_exporter": "python",
   "pygments_lexer": "ipython3",
   "version": "3.12.1"
  }
 },
 "nbformat": 4,
 "nbformat_minor": 5
}
