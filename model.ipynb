{
 "cells": [
  {
   "cell_type": "code",
   "execution_count": 3,
   "id": "69f8fd2b-b7e8-462e-9e7c-78b1b3ecd3f7",
   "metadata": {},
   "outputs": [],
   "source": [
    "import pickle"
   ]
  },
  {
   "cell_type": "code",
   "execution_count": 4,
   "id": "707f9111-d60d-4218-a2cc-c7eb7a9f5c77",
   "metadata": {},
   "outputs": [],
   "source": [
    "X = pickle.load(open('X.pk1', 'rb'))\n",
    "y = pickle.load(open('y.pk1', 'rb'))"
   ]
  },
  {
   "cell_type": "code",
   "execution_count": 5,
   "id": "e2cbc53e-290f-45b3-b875-224d6031c097",
   "metadata": {},
   "outputs": [],
   "source": [
    "X = X/255\n",
    "# this is;-> feature scaling to run the model faster\n",
    "# X"
   ]
  },
  {
   "cell_type": "code",
   "execution_count": 6,
   "id": "4f668f29-30e4-42cc-ae8f-ffc475626dfc",
   "metadata": {},
   "outputs": [
    {
     "data": {
      "text/plain": [
       "(2000, 100, 100, 3)"
      ]
     },
     "execution_count": 6,
     "metadata": {},
     "output_type": "execute_result"
    }
   ],
   "source": [
    "X.shape"
   ]
  },
  {
   "cell_type": "code",
   "execution_count": 7,
   "id": "a7fc09b5-4a03-430f-9e17-d7c0722c6d61",
   "metadata": {},
   "outputs": [],
   "source": [
    "# feature detector 64\n",
    "# rectifier\n",
    "# max pooling\n",
    "# flattening"
   ]
  },
  {
   "cell_type": "code",
   "execution_count": 8,
   "id": "7e2ae49b-3d8d-4cc9-8110-41325ac19f49",
   "metadata": {},
   "outputs": [],
   "source": [
    "# import distutils\n",
    "from tensorflow.keras.models import Sequential\n",
    "from tensorflow.keras.layers import Conv2D, MaxPooling2D, Flatten, Dense"
   ]
  },
  {
   "cell_type": "code",
   "execution_count": 12,
   "id": "2ba9e33a-c5d8-490e-96b2-da31e92d83a5",
   "metadata": {},
   "outputs": [],
   "source": [
    "# model = Sequential()\n",
    "\n",
    "# model.add(Conv2D(64, (3,3), activation=\"relu\"))\n",
    "    # relu is the activation function\n",
    "# model.add(MaxPooling2D((2,2)))\n",
    "\n",
    "# model.add(Conv2D(64, (3,3), activation=\"relu\"))\n",
    "# model.add(MaxPooling2D((2,2)))\n",
    "\n",
    "    # flatten layers\n",
    "# model.add(Flatten())\n",
    "\n",
    "# model.add(Dense(128, input_shape= X.shape[1:], activation=\"relu\"))\n",
    "\n",
    "# model.add(Dense(2, activation=\"softmax\"))\n",
    "\n",
    "model = Sequential([\n",
    "    Conv2D(64, (3,3), activation=\"relu\", input_shape=X.shape[1:]),\n",
    "    MaxPooling2D((2,2)),\n",
    "    Conv2D(64, (3,3), activation=\"relu\"),\n",
    "    MaxPooling2D((2,2)),\n",
    "    Flatten(),\n",
    "    Dense(128, activation=\"relu\"),\n",
    "    Dense(2, activation=\"softmax\")\n",
    "])"
   ]
  },
  {
   "cell_type": "code",
   "execution_count": 13,
   "id": "eb38cd70-89ea-404c-bd0b-fa6b7442c853",
   "metadata": {},
   "outputs": [],
   "source": [
    "# loss function & optimizers\n",
    "model.compile(optimizer = 'adam', loss='sparse_categorical_crossentropy', metrics=['accuracy'])"
   ]
  },
  {
   "cell_type": "code",
   "execution_count": 15,
   "id": "5addbc30-126e-4d5e-bece-c5239fe53b96",
   "metadata": {},
   "outputs": [
    {
     "name": "stdout",
     "output_type": "stream",
     "text": [
      "Epoch 1/5\n",
      "\u001b[1m57/57\u001b[0m \u001b[32m━━━━━━━━━━━━━━━━━━━━\u001b[0m\u001b[37m\u001b[0m \u001b[1m44s\u001b[0m 447ms/step - accuracy: 0.4881 - loss: 0.9701 - val_accuracy: 0.5300 - val_loss: 0.6855\n",
      "Epoch 2/5\n",
      "\u001b[1m57/57\u001b[0m \u001b[32m━━━━━━━━━━━━━━━━━━━━\u001b[0m\u001b[37m\u001b[0m \u001b[1m25s\u001b[0m 441ms/step - accuracy: 0.5546 - loss: 0.6878 - val_accuracy: 0.6500 - val_loss: 0.6666\n",
      "Epoch 3/5\n",
      "\u001b[1m57/57\u001b[0m \u001b[32m━━━━━━━━━━━━━━━━━━━━\u001b[0m\u001b[37m\u001b[0m \u001b[1m26s\u001b[0m 461ms/step - accuracy: 0.5802 - loss: 0.6791 - val_accuracy: 0.6250 - val_loss: 0.6617\n",
      "Epoch 4/5\n",
      "\u001b[1m57/57\u001b[0m \u001b[32m━━━━━━━━━━━━━━━━━━━━\u001b[0m\u001b[37m\u001b[0m \u001b[1m26s\u001b[0m 449ms/step - accuracy: 0.6355 - loss: 0.6509 - val_accuracy: 0.6350 - val_loss: 0.6322\n",
      "Epoch 5/5\n",
      "\u001b[1m57/57\u001b[0m \u001b[32m━━━━━━━━━━━━━━━━━━━━\u001b[0m\u001b[37m\u001b[0m \u001b[1m26s\u001b[0m 460ms/step - accuracy: 0.6846 - loss: 0.5913 - val_accuracy: 0.6400 - val_loss: 0.7097\n"
     ]
    },
    {
     "data": {
      "text/plain": [
       "<keras.src.callbacks.history.History at 0x1fe98b94dd0>"
      ]
     },
     "execution_count": 15,
     "metadata": {},
     "output_type": "execute_result"
    }
   ],
   "source": [
    "model.fit(X, y, epochs=5, validation_split=0.1)"
   ]
  },
  {
   "cell_type": "code",
   "execution_count": null,
   "id": "5a26a9e1-ef9f-4110-9a3b-005a98eb2ad2",
   "metadata": {},
   "outputs": [],
   "source": []
  }
 ],
 "metadata": {
  "kernelspec": {
   "display_name": "Python 3 (ipykernel)",
   "language": "python",
   "name": "python3"
  },
  "language_info": {
   "codemirror_mode": {
    "name": "ipython",
    "version": 3
   },
   "file_extension": ".py",
   "mimetype": "text/x-python",
   "name": "python",
   "nbconvert_exporter": "python",
   "pygments_lexer": "ipython3",
   "version": "3.12.1"
  }
 },
 "nbformat": 4,
 "nbformat_minor": 5
}
